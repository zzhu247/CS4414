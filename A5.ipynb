{
 "cells": [
  {
   "cell_type": "markdown",
   "metadata": {},
   "source": [
    "# Grade: /100 pts\n",
    "\n",
    "# Assignment 05: Model Selection & Cross Validation\n",
    "\n",
    "### Dear Applicant...You've Been Invited To  Interview To Be A Data Scientist!\n",
    "\n",
    "You've been invited to interview for a Junior Data Scientist job for a professional football (er, Soccer) club.  The owner of the team is very interested in seeing how the use of data can help improve the team's peformance, and perhaps win them the next national championship!\n",
    "\n",
    "The draft is coming up soon (thats when you get to pick new players for your team). To test your skills, the owner has asked you to create a model to help score potential draftees.  The model should look at attributes about the player and predict what their \"rating\" will be once they start playing professionally.\n",
    "\n",
    "The football club's data team has provided you with data for 17,993 footballers from the league.  Your job: build a model or models, perform model selection, and make predictions on players you have not yet seen.\n",
    "\n",
    "### The Dataset\n",
    "\n",
    "The data is stored in a csv file called `footballer_data.csv`.  The data contain 52 columns, including some information about the player, their skills, and their overall measure as an effective footballer.\n",
    "\n",
    "Most features relate to the player's abilities in football related skills, such as passing, shooting, dribbling, etc.  Some features are rated on a 1-5 scale (5 being the best), others are rated on 0-100 (100 being the best), and others still are categorical (e.g. work rate is coded as low, medium, or high).\n",
    "\n",
    "The target variable (or $y$ variable, if you will) is `overall`.  This is an overall measure of the footballer's skill and is rated from 0 to 100.  The most amazingly skilled footballer would be rated 100, where as I would struggle to score more than a 20. The model(s) you build should use the other features to predict `overall`.\n",
    "\n",
    "\n",
    "### Follow These Steps before submitting\n",
    "Once you are finished, ensure to complete the following steps.\n",
    "\n",
    "1.  Restart your kernel by clicking 'Kernel' > 'Restart & Run All'.\n",
    "\n",
    "2.  Fix any errors which result from this.\n",
    "\n",
    "3.  Repeat steps 1. and 2. until your notebook runs without errors.\n",
    "\n",
    "4.  Submit your completed notebook to OWL by the deadline.\n",
    "\n",
    "\n",
    "### Preliminaries\n",
    "---"
   ]
  },
  {
   "cell_type": "code",
   "execution_count": null,
   "metadata": {},
   "outputs": [],
   "source": [
    "import pandas as pd\n",
    "import numpy as np\n",
    "import matplotlib.pyplot as plt\n",
    "import seaborn as sns\n",
    "from sklearn.model_selection import train_test_split, cross_val_score\n",
    "from sklearn.linear_model import LinearRegression\n",
    "from sklearn.pipeline import Pipeline\n",
    "from sklearn.preprocessing import StandardScaler, PolynomialFeatures\n",
    "from sklearn.metrics import make_scorer, mean_squared_error\n",
    "from sklearn.base import BaseEstimator, TransformerMixin\n",
    "\n",
    "pd.set_option('display.max_columns', 500)\n",
    "\n",
    "%matplotlib inline\n"
   ]
  },
  {
   "cell_type": "markdown",
   "metadata": {},
   "source": [
    "### Question 1: /10pts\n",
    "\n",
    "The hiring manager is going to walk you through a data analysis.  Your job is to implement what they ask to showcase yous skills as a data scientist.\n",
    "\n",
    "Read in the data and take a look at the dataframe.  There should be 52 columns. The outcome of interest is called `overall` which gives an overall measure of player performance. Not all of the other columns are particularly useful for modelling though (for instance, `ID` is just a unique identifier for the player.  This is essentially an arbitrary number and has no bearing on the player's rating).\n",
    "\n",
    "The hiring manager tells you to remove the following columns:\n",
    "\n",
    "* ID\n",
    "* club\n",
    "* club_logo\n",
    "* birth_date\n",
    "* flag\n",
    "* nationality\n",
    "* photo\n",
    "* potential\n",
    "\n",
    "The hiring manager would also like the following columns converted into dummy variables:\n",
    "\n",
    "* work_rate_att\n",
    "* work_rate_def\n",
    "* preferred_foot\n",
    "\n",
    "Clean the data according to the hiring manager's instructions."
   ]
  },
  {
   "cell_type": "code",
   "execution_count": null,
   "metadata": {},
   "outputs": [],
   "source": []
  },
  {
   "cell_type": "markdown",
   "metadata": {},
   "source": [
    "### Question 2: /10 pts\n",
    "\n",
    "The data should all be numerical now. To evalute different models, the hiring manager asks you to define a function that returns the mean squared error. \n",
    "\n",
    "*\"Before we begin modelling, it is important to obtain a baseline for the accuracy of our predictive models.\"* says the hiring manager. *Compute the squared errors resulting if we use the mean of the `overall` variable to make predictions. Then compute the expected loss. This will serve as our baseline performance.*\n",
    "\n",
    "Plot the distribution of the losses (squared errors) and print their mean and standard deviation."
   ]
  },
  {
   "cell_type": "code",
   "execution_count": null,
   "metadata": {},
   "outputs": [],
   "source": [
    "# Define mean absolute error function  \n",
    "\n",
    "# Get mean and std of test loss \n",
    "\n",
    "# Plot distribution  \n",
    "\n",
    "\n"
   ]
  },
  {
   "cell_type": "markdown",
   "metadata": {},
   "source": [
    "### Question 2: /15pts\n",
    "\n",
    "To prepare the data for modelling, the hiring manager asks you use `sklearn.model_selection.train_test_split` to seperate the data into a training set and a test set.\n",
    "\n",
    "The hiring manager would like you to estimate the performance of the final selected model to within +/- 0.25 units using mean squared error as the loss function of choice.  You remember that you can use the formula for effective test size to accomplish this.\n",
    "\n",
    "The formula for the effective test size is\n",
    "\n",
    "$$ n = \\left(\\frac{1.96 \\sigma_l}{d}\\right)^2$$\n",
    "\n",
    "Can you estimate the performance of the model to within their desired precsion? Why or why not?  If you can't, tell the hiring manager why you can't and then tell them what precision splitting the data into 50% train and 50% test will achieve.\n",
    "\n",
    "Include your answer as if you were writing the hiring manager an email in a markdown cell below..."
   ]
  },
  {
   "cell_type": "markdown",
   "metadata": {},
   "source": [
    "Hey Hiring Manager,\n",
    "\n"
   ]
  },
  {
   "cell_type": "code",
   "execution_count": null,
   "metadata": {},
   "outputs": [],
   "source": [
    "# Provide your calculation as evidence"
   ]
  },
  {
   "cell_type": "markdown",
   "metadata": {},
   "source": [
    "### Question 4: /5pts\n",
    "The team at the football clib use sklearn to build a model pipelines for their projects. To learn more about pipelines, do lab section 5.9 (lab part 2) and read up on sklearn pipelines [here](https://scikit-learn.org/stable/modules/generated/sklearn.pipeline.Pipeline.html). \n",
    "\n",
    "The hiring manager want you to create a model pipeline to be fit later.  Create an sklearn pipeline which fits a linear regression model.  Don't fit the data yet!  The hiring manager will tell you when to do that...\n",
    "\n",
    "Note that the sklearn linear regression adds its own intercept so you don't need to create a column of 1s.\n"
   ]
  },
  {
   "cell_type": "code",
   "execution_count": null,
   "metadata": {},
   "outputs": [],
   "source": []
  },
  {
   "cell_type": "markdown",
   "metadata": {},
   "source": [
    "### Question 5: /15pts\n",
    "\n",
    "The hiring manager wants you to perform cross validation on the model you constructed in the last question.  They want to make sure you understand what cross validation is, so they've asked you to **write your own function to do cross validation.  Do not use sklearn's functions to do this for you.  Else, you won't get the job!**.\n",
    "\n",
    "\n",
    "Your function should take the following arguments:\n",
    "\n",
    "* `model` -- an instance of an sklearn pipeline (like the one you made in the last question)\n",
    "* `X` -- a matrix of features\n",
    "* `y` -- a vector of outcomes (remember we're using the \"overall\" column from the data)\n",
    "* `K` -- an integer no smaller than 1 and no larger than 10.  This represents the number of folds to make in the cross validation step.\n",
    "* `scoring` -- a loss function.  \n",
    "\n",
    "Your function should return:\n",
    "\n",
    "* cv_scores -- an array of length `K`.  This houses the cross validation estimates from each fold.\n",
    "\n",
    "Perform 5 fold cross validation with your function.  Report the estimated average mean square error from your cross validation.\n",
    "\n",
    "Note: Please make sure you write your own function to perform crossvalidation. While you can use sklearn's `cross_val_score` the main aim of this question is to test that you have a thorough understanding of cross-validation."
   ]
  },
  {
   "cell_type": "code",
   "execution_count": null,
   "metadata": {},
   "outputs": [],
   "source": [
    "def cross_validate(model, X, y, K, scoring_function):\n",
    "    \n",
    "   # Divide data set randomly into K partitions\n",
    "\n",
    "    # For each crossvalidation fold, fit the model on K-1 partitions and evaluation on the remaning Kth partition \n",
    "\n",
    "    return cv_scores\n",
    "    \n",
    "# Test your function with K = 5"
   ]
  },
  {
   "cell_type": "markdown",
   "metadata": {},
   "source": [
    "### Question 6: /15pts\n",
    "\n",
    "That's impressive!  Your model seems to be very accurate, but now the hiring manager wants to try and make it more accurate.  They share with you that scounts see that players hit their prime in their late 20s, and as they age they become worse overall.  Thus, the effect of age seems to increase at first and then start to decrease.  Kind of like a quadratic funciton.\n",
    "\n",
    "The hiring manager wants you to add a quadratic term for age to the model.  Repeat the steps above (creating a pipeline, validating the model, etc) for a model which includes a quadratic term for age. As in the Lab, include the addition of the quadratic term for Age as a Transform into the pipeline. Report the cross validated performance below."
   ]
  },
  {
   "cell_type": "code",
   "execution_count": null,
   "metadata": {},
   "outputs": [],
   "source": []
  },
  {
   "cell_type": "markdown",
   "metadata": {},
   "source": [
    "### Question 7: /10 pts\n",
    "\n",
    "\n",
    "Hmmm...You aren't happy that the quadratic age  term has not improved the fit of the model.  You *really* want to impress the hiring manager, and decide to add more features to your model in hopes it will improve performance. \n",
    "\n",
    "Add sklearn's `PolynomialFeatures` to your pipeline from question 5 and set `degree=2`. Cross validate the new model and report the performance."
   ]
  },
  {
   "cell_type": "code",
   "execution_count": null,
   "metadata": {},
   "outputs": [],
   "source": []
  },
  {
   "cell_type": "markdown",
   "metadata": {},
   "source": [
    "### Question 8: /10pts\n",
    "\n",
    "Great job!  You've managed to decrease the loss by a lot!  The hiring manager is really impressed with your work and things are looking good for your employment status!  \n",
    "\n",
    "However, the hiring manager is a little too happy with your peformance.  The hiring manager wants to explore third order interactions (that is adding cubic terms to the model).  The hiring manager tells you that their super computers can handle the computation; \"*It's no big deal for us*\" they boast.\n",
    " \n",
    "This is not a good idea, and you know it!  Talk them out of doing this.  Write them an email in the cell below explaining what could happen if you add too may interactions.\n",
    "\n",
    "---"
   ]
  },
  {
   "cell_type": "markdown",
   "metadata": {},
   "source": [
    "Hey Hiring Manager,\n",
    "...\n",
    "Sincerly,\n",
    "...\n",
    "\n"
   ]
  },
  {
   "cell_type": "markdown",
   "metadata": {},
   "source": [
    "### Question 9:  /10pts\n",
    "\n",
    "You've successfully talked the hiring manager out of adding cubic terms to the model. Good job!  Now the hiring manager asks for your opinion.  Over the course of the interview, you've fit three models.  It is time to pick a model to deploy!\n",
    "\n",
    "Based on the cross validation scores, which model would you choose?  \n",
    "Train your chosen model on all the training data. \n",
    "Estimate the performance of your chosen model on the test data you held out, and do the following:\n",
    "\n",
    "- Compute a point estimate for the generalization error. (A \"point estimate\" is a single number that we expect to be close to the thing we are trying to estimate.)\n",
    "- Compute a confidence interval for the generalization error.  \n",
    "- Plot the distribution of the squared errors.\n",
    "\n",
    "Is the test error close to the cross validation error of the model you chose? Why do you think this is the case? Answer below as if you were talking to the hiring manager.\n"
   ]
  },
  {
   "cell_type": "markdown",
   "metadata": {},
   "source": [
    "Hey Hiring Manager,\n",
    "\n",
    "..."
   ]
  },
  {
   "cell_type": "code",
   "execution_count": null,
   "metadata": {},
   "outputs": [],
   "source": []
  },
  {
   "cell_type": "markdown",
   "metadata": {},
   "source": [
    "### Follow These Steps before submitting\n",
    "Once you are finished, ensure to complete the following steps.\n",
    "\n",
    "1.  Restart your kernel by clicking 'Kernel' > 'Restart & Run All'.\n",
    "\n",
    "2.  Fix any errors which result from this.\n",
    "\n",
    "3.  Repeat steps 1. and 2. until your notebook runs without errors.\n",
    "\n",
    "4.  Submit your completed notebook to OWL by the deadline."
   ]
  }
 ],
 "metadata": {
  "kernelspec": {
   "display_name": "Python 3",
   "language": "python",
   "name": "python3"
  },
  "language_info": {
   "codemirror_mode": {
    "name": "ipython",
    "version": 3
   },
   "file_extension": ".py",
   "mimetype": "text/x-python",
   "name": "python",
   "nbconvert_exporter": "python",
   "pygments_lexer": "ipython3",
   "version": "3.7.6"
  }
 },
 "nbformat": 4,
 "nbformat_minor": 4
}