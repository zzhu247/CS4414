{
  "nbformat": 4,
  "nbformat_minor": 0,
  "metadata": {
    "kernelspec": {
      "display_name": "Python 3",
      "language": "python",
      "name": "python3"
    },
    "language_info": {
      "codemirror_mode": {
        "name": "ipython",
        "version": 3
      },
      "file_extension": ".py",
      "mimetype": "text/x-python",
      "name": "python",
      "nbconvert_exporter": "python",
      "pygments_lexer": "ipython3",
      "version": "3.8.5"
    },
    "colab": {
      "name": "assignment_1.ipynb",
      "provenance": [],
      "collapsed_sections": [],
      "toc_visible": true,
      "include_colab_link": true
    }
  },
  "cells": [
    {
      "cell_type": "markdown",
      "metadata": {
        "id": "view-in-github",
        "colab_type": "text"
      },
      "source": [
        "<a href=\"https://colab.research.google.com/github/zzhu247/CS4414/blob/main/assignment_1.ipynb\" target=\"_parent\"><img src=\"https://colab.research.google.com/assets/colab-badge.svg\" alt=\"Open In Colab\"/></a>"
      ]
    },
    {
      "cell_type": "markdown",
      "metadata": {
        "id": "UAF2tNSPZc0j"
      },
      "source": [
        "# Grade: /100 points\n",
        "\n",
        "# Assignment 01: Supervised learning, Linear models, and Loss functions\n",
        "\n",
        "In this assignment, you're going to write your own methods to fit a linear model using either an OLS or LAD cost function.  \n",
        "\n",
        "## Data set \n",
        "\n",
        "For this assignment, we will examine some data representing possums in Australia and New Guinea. The data frame contains 46 observations on the following 6 variables:\n",
        "\n",
        "* sex: Sex, either m (male) or f (female).\n",
        "* age: Age in years.\n",
        "* headL: Head length, in mm.\n",
        "* skullW: Skull width, in mm.\n",
        "* totalL: Total length, in cm.\n",
        "* tailL: Tail length, in cm.\n",
        "\n",
        "## Follow These Steps Before Submitting\n",
        "Once you are finished, ensure to complete the following steps.\n",
        "\n",
        "1.  Restart your kernel by clicking 'Kernel' > 'Restart & Run All'.\n",
        "\n",
        "2.  Fix any errors which result from this.\n",
        "\n",
        "3.  Repeat steps 1. and 2. until your notebook runs without errors.\n",
        "\n",
        "4.  Submit your completed notebook to OWL by the deadline.\n",
        "\n",
        "\n",
        "## Preliminaries"
      ]
    },
    {
      "cell_type": "code",
      "metadata": {
        "id": "XkvrPaWzZc0k"
      },
      "source": [
        "# Import all the necessary packages: \n",
        "import matplotlib.pyplot as plt \n",
        "import numpy as np\n",
        "import pandas as pd\n",
        "import scipy.stats as ss \n",
        "import scipy.optimize as so\n",
        "from sklearn import linear_model\n",
        "\n",
        "%matplotlib inline"
      ],
      "execution_count": null,
      "outputs": []
    },
    {
      "cell_type": "markdown",
      "metadata": {
        "id": "RjAh_7PPZc0l"
      },
      "source": [
        "\n",
        "## Part 1\n",
        "### Question 1.1:  /10 points\n",
        "\n",
        "\n",
        "Read in the `possum.csv` file as a `pandas.DataFrame`.  Investigate the relationship between the possum's age and its tail length by plotting a scatter plot of the `age` and `tailL` columns. Add an `alpha`(transparency of the plotted dots) in case some data are overlapping. "
      ]
    },
    {
      "cell_type": "code",
      "metadata": {
        "id": "Mwh6nqghZc0l",
        "colab": {
          "base_uri": "https://localhost:8080/",
          "height": 279
        },
        "outputId": "d494e0c1-4a0c-4c11-9028-30ae9d2c7341"
      },
      "source": [
        "# Read in the data with pandas\n",
        "possum_data = pd.read_csv(\"possum.csv\")\n",
        "\n",
        "\n",
        "# Make the scatter plot (don't forget the axis labels)\n",
        "possum_data.plot.scatter(x = 'age', y = 'tailL', alpha = 0.5)\n",
        "plt.xlabel(\"Age\")\n",
        "plt.ylabel(\"Length of Tail\")\n",
        "plt.show()"
      ],
      "execution_count": null,
      "outputs": [
        {
          "output_type": "display_data",
          "data": {
            "image/png": "[encoded data removed]",
            "text/plain": [
              "<Figure size 432x288 with 1 Axes>"
            ]
          },
          "metadata": {
            "tags": [],
            "needs_background": "light"
          }
        }
      ]
    },
    {
      "cell_type": "markdown",
      "metadata": {
        "id": "NcF4SMpXZc0l"
      },
      "source": [
        "### Question 1.2: /5 point\n",
        "\n",
        "Recall that the linear model, we obtain predictions by computing \n",
        "\n",
        "$$ \\hat{\\mathbf{y}} = \\mathbf{X} \\hat{\\beta} $$\n",
        "\n",
        "Here, $\\mathbf{X}$ is a design matrix which includes a column of ones, $\\hat{\\beta}$ are coefficients, and $\\hat{\\mathbf{y}}$ are outcomes.  Write a function `linearModelPredict` to compute linear model predictions given data and a coefficient vector.  The function should take as it's arguments a 1d-array of coefficients `b` and the design matrix `X` as a 2d-array and return linear model predictions `yp`.\n",
        "\n",
        "Test the function by setting \n",
        "\n",
        "```\n",
        "X = np.array([[1,0],[1,-1],[1,2]])\n",
        "b = np.array([0.1,0.3])\n",
        "```\n",
        "and call your function with these values! \n",
        "\n",
        "Report $\\hat{\\mathbf{y}}$. \n",
        "What is the dimensionality of the numpy-array that you get back? \n",
        "\n",
        "Hint:  Read the documentation for `np.dot` or the `@` operator in `numpy`."
      ]
    },
    {
      "cell_type": "code",
      "metadata": {
        "id": "_YDTe7ZTZc0m"
      },
      "source": [
        "def linearModelPredict(b,X):\n",
        "    yp = X @ b\n",
        "    return yp\n",
        "# Always important: Test the new function you have written! \n",
        "\n",
        "# By the way: What happens when b is a 2d-array? \n",
        "\n"
      ],
      "execution_count": null,
      "outputs": []
    },
    {
      "cell_type": "markdown",
      "metadata": {
        "id": "z-msrHZ3lPyC"
      },
      "source": [
        "If both X and b are 2-D arrays, it is matrix multiplication, but using matmul or a @ b is preferred."
      ]
    },
    {
      "cell_type": "markdown",
      "metadata": {
        "id": "L5CFqY0yZc0m"
      },
      "source": [
        "### Question 1.3: /15 points\n",
        "\n",
        "Write a function `linearModelLossRSS` which computes and returns the loss function for an OLS model parameterized by $\\beta$, as well as the gradient of the loss.  The function should take as its first argument a 1d-array `beta` of coefficients for the linear model, as its second argument the design matrix `X` as a 2d-array, and as its third argument a 1d-array `y` of observed outcomes.\n",
        "\n",
        "Test the function with the values \n",
        "\n",
        "```\n",
        "X = np.array([[1,0],[1,-1],[1,2]])\n",
        "b = np.array([0.1,0.3])\n",
        "y = np.array([0,0.4,2]) \n",
        "```\n",
        "\n",
        "Report the loss and the gradient. \n",
        "\n",
        "**Written answer**: To minimize the cost do you need increase or decrease the value of the parameters? "
      ]
    },
    {
      "cell_type": "code",
      "metadata": {
        "id": "MMzSL4qaZc0m"
      },
      "source": [
        "def linearModelLossRSS(b,X,y):\n",
        "    #get y.cap which is our predicted y\n",
        "    predy = linearModelPredict(b, X)\n",
        "    #get the vactor of residuals\n",
        "    res = y - predy\n",
        "    #Get the residuals sums of square\n",
        "    rss = np.sum(res**2)\n",
        "    #get the gradiant\n",
        "    gradient =(-2)*(res @ X)\n",
        "    return (rss, gradient)\n"
      ],
      "execution_count": null,
      "outputs": []
    },
    {
      "cell_type": "markdown",
      "metadata": {
        "id": "ECn1R3qjZc0m"
      },
      "source": [
        "### Question 1.4:  /15 points. \n",
        "\n",
        "Now that you've implemented a loss function in question 1.3, it is now time to minimize it!\n",
        "\n",
        "Write a function `linearModelFit` to fit a linear model.  The function should take as its first argument the design matrix `X` as a 2d-array, as its second argument a 1d-array `y` of outcomes, and as its third argument a function  `lossfcn` which returns as a tuple the value of the loss, as well as the gradient of the loss. As a result, it should return the estimated betas and the R2. \n",
        "\n",
        "Test the function with the values: \n",
        "```\n",
        "X = np.array([[1,0],[1,-1],[1,2]])\n",
        "y = np.array([0,0.4,2]) \n",
        "```\n",
        "\n",
        "Report best parameters and the fitted R2 \n"
      ]
    },
    {
      "cell_type": "code",
      "metadata": {
        "id": "i0J26vKOZc0n"
      },
      "source": [
        "def linearModelFit(X,y,lossfcn = linearModelLossRSS):\n",
        "    nrows,ncols = X.shape\n",
        "    betas=np.zeros((ncols,1))\n",
        "    RES = so.minimize(lossfcn,betas,args=(X,y),jac=True)\n",
        "    estimated_betas=RES.x # Results\n",
        "    res = y-np.mean(y)\n",
        "    TSS = sum(res**2)\n",
        "    RSS,deriv = linearModelLossRSS(estimated_betas,X,y)\n",
        "    R2 = 1-RSS/TSS\n",
        "    return (estimated_betas,R2)\n"
      ],
      "execution_count": null,
      "outputs": []
    },
    {
      "cell_type": "markdown",
      "metadata": {
        "id": "6FA8O9rCZc0n"
      },
      "source": [
        "### Question 1.5: /15 points\n",
        "\n",
        "Use the above functions to fit your model to the possum data. Then use your model and the fitted parameters to make predictions along a grid of equally spaced possum ages.  \n",
        "\n",
        "Plot the data and add a line for the predicted values. You can get these by generating a new X-matrix with equally space ages (using for example np.linspace). Also report the R2 value for the fit. You can do this by either printing out the R2 of the fit or putting it on your plot via the `annotate` function in matplotlib.\n"
      ]
    },
    {
      "cell_type": "code",
      "metadata": {
        "id": "5KgqHsFrZc0n",
        "colab": {
          "base_uri": "https://localhost:8080/",
          "height": 474
        },
        "outputId": "577e941b-8420-46ed-d432-98d62eb39ab2"
      },
      "source": [
        "# Make the design matrix using np.c_ \n",
        "# y = ...\n",
        "# X =  np.c_[...]\n",
        "\n",
        "age = possum_data.age.values\n",
        "y = possum_data.tailL.values\n",
        "X = np.c_[np.ones(age.size),age]\n",
        "# Call your fitting function \n",
        "actual_betas, actual_R2 = linearModelFit(X,y)\n",
        "# Create the scatter plot (see question 1.1)\n",
        "fig, ax = plt.subplots(dpi = 120)\n",
        "possum_data.plot.scatter(x = 'age', y = 'tailL', alpha = 0.5, ax = ax)\n",
        "plt.xlabel(\"Age\")\n",
        "plt.ylabel(\"Length of Tail\")\n",
        "# Create a new X matrix with equally space data \n",
        "age_grid = np.arange(age.min(), age.max())\n",
        "Xn = np.c_[np.ones(age_grid.size), age_grid]\n",
        "# Add the line to the graph \n",
        "yp=linearModelPredict(actual_betas,Xn)\n",
        "ax.plot(age_grid, yp, color = 'red')\n",
        "# Report R2 \n",
        "print(\"R2 is\", actual_R2)"
      ],
      "execution_count": null,
      "outputs": [
        {
          "output_type": "stream",
          "text": [
            "R2 is 0.22286587947604097\n"
          ],
          "name": "stdout"
        },
        {
          "output_type": "display_data",
          "data": {
            "image/png": "[encoded data removed]",
            "text/plain": [
              "<Figure size 720x480 with 1 Axes>"
            ]
          },
          "metadata": {
            "tags": [],
            "needs_background": "light"
          }
        }
      ]
    },
    {
      "cell_type": "markdown",
      "metadata": {
        "id": "y8lNCPhHZc0n"
      },
      "source": [
        "## Part 2: LAD Regression\n",
        "\n",
        "### Question 2.1:  /15 points\n",
        "\n",
        "In the previous section, we worked with the squared loss.  Now, we'll implement a linear model with least absolute deviation loss.\n",
        "\n",
        "Write a function `linearModelLossLAD` which computes the least absolute deviation loss function for a linear model  parameterized by $\\beta$, as well as the gradient of the loss.  The function should take as its first argument a 1d-array `beta` of coefficients for the linear model, as its second argument the design matrix `X` as a 2d-array, and as its third argument a 1d-array `y` of observed outcomes.\n",
        "\n",
        "Test the function with the values \n",
        "\n",
        "```\n",
        "X = np.array([[1,0],[1,-1],[1,2]])\n",
        "b = np.array([0.1,0.3])\n",
        "y = np.array([0,0.4,2]) \n",
        "```\n",
        "\n",
        "Report the loss and the gradient. "
      ]
    },
    {
      "cell_type": "code",
      "metadata": {
        "id": "4YycCBz-Zc0o"
      },
      "source": [
        "def linearModelLossLAD(b,X,y):\n",
        "    predy = linearModelPredict(b,X)\n",
        "    #get the residual\n",
        "    res = y - predy\n",
        "    sres = np.sign(res)\n",
        "    #get LAD\n",
        "    sum_abs_dev = np.sum(abs(res))\n",
        "    #get gradient\n",
        "    grad = -1 * (sres @ X)\n",
        "    return (sum_abs_dev,grad)\n"
      ],
      "execution_count": null,
      "outputs": []
    },
    {
      "cell_type": "markdown",
      "metadata": {
        "id": "m-TJD3tXZc0o"
      },
      "source": [
        "### Question 2.2: /10 points\n",
        "\n",
        "\n",
        "Use the above functions to fit your LAD model. Use your model to make predictions along a grid of equally spaced possum ages.  Once fit, add the fitted line to the scatter plot as in question 1.5.  Also report the R2-value. \n",
        "\n",
        "**Written answer**: What is the difference in the fit obtained with an L1 as compared to the L2 cost function? Which one has a higher R2 value? Why?  \n",
        "\n",
        "Note: If you recieve an error from the optimizer, it may be because the loss function for the LAD model is not differentiable at its minimum.  This will lead to some gradient based optimizers to fail to converge.  If this happens to you then pass `method=\"Powell\"` to `scipy.optimize.minimize`.\n",
        "\n"
      ]
    },
    {
      "cell_type": "code",
      "metadata": {
        "colab": {
          "base_uri": "https://localhost:8080/",
          "height": 474
        },
        "id": "YqYHzRNySHqB",
        "outputId": "6680223c-e121-4c11-d261-ff8bf851fcda"
      },
      "source": [
        "fig, ax = plt.subplots(dpi = 120)\n",
        "possum_data.plot.scatter(x = 'age', y = 'tailL', alpha = 0.5, ax = ax)\n",
        "plt.xlabel(\"Age\")\n",
        "plt.ylabel(\"Length of Tail\")\n",
        "y = possum_data.tailL.values\n",
        "age = possum_data.age.values\n",
        "N = age.size\n",
        "X = np.c_[np.ones(N), age]\n",
        "actual_betas, actual_R2 = linearModelFit(X,y, lossfcn = linearModelLossLAD)\n",
        "\n",
        "age_grid = np.arange(age.min(), age.max())\n",
        "Xn = np.c_[np.ones(age_grid.size), age_grid]\n",
        "yn = Xn@actual_betas\n",
        "\n",
        "ax.plot(age_grid, yn, color = 'red')\n",
        "print(\"R2 is\", actual_R2)"
      ],
      "execution_count": null,
      "outputs": [
        {
          "output_type": "stream",
          "text": [
            "R2 is 0.12937096211205945\n"
          ],
          "name": "stdout"
        },
        {
          "output_type": "display_data",
          "data": {
            "image/png": "[encoded data removed]",
            "text/plain": [
              "<Figure size 720x480 with 1 Axes>"
            ]
          },
          "metadata": {
            "tags": [],
            "needs_background": "light"
          }
        }
      ]
    },
    {
      "cell_type": "markdown",
      "metadata": {
        "id": "wJF3gTh_Zc0p"
      },
      "source": [
        "Written answer: The LAD fit does not give as much weight to the outlier (9,55) as the OLS fit. The R2 value is lower, however. This is because OLS minimized the RSS, and therefore maximizes R2.  "
      ]
    },
    {
      "cell_type": "markdown",
      "metadata": {
        "id": "zFwqZ22NZc0p"
      },
      "source": [
        "### Question 2.3: /15 points\n",
        "\n",
        "Fit an OLS model to the possum data with the `linear_model` module from the `sklearn` package by using the `LinearRegression` class.  In no more than two sentences, comment on the rsquared values from `sklearn` and the rsquared values from your models. Are they similar?"
      ]
    },
    {
      "cell_type": "code",
      "metadata": {
        "id": "9ZAhKIFXZc0p",
        "colab": {
          "base_uri": "https://localhost:8080/",
          "height": 474
        },
        "outputId": "b7749c33-b951-4a60-eba1-d11400f150b6"
      },
      "source": [
        "from sklearn.linear_model import LinearRegression\n",
        "from sklearn.model_selection import train_test_split\n",
        "\n",
        "fig, ax = plt.subplots(dpi = 120)\n",
        "possum_data.plot.scatter(x = 'age', y = 'tailL', alpha = 0.5, ax = ax)\n",
        "#Test tain split for supervised training\n",
        "X_train, X_test,y_train, y_test = train_test_split(possum_data.age,possum_data.tailL)\n",
        "#test train split visualization\n",
        "plt.scatter(X_train,y_train, label = \"Training Data\", color = 'b', alpha = .5)\n",
        "plt.scatter(X_test,y_test, label = \"Testing Data\", color = 'r', alpha = .5)\n",
        "plt.legend()\n",
        "\n",
        "LR = LinearRegression()\n",
        "LR.fit(X_train.values.reshape(-1, 1), y_train)\n",
        "\n",
        "prediction = LR.predict(X_test.values.reshape(-1,1))\n",
        "\n",
        "plt.plot(X_test,prediction, label = 'Linear regression', color = 'r')\n",
        "plt.scatter(X_test,y_test, label = \"Actural Testing Data\", color = 'y', alpha = .3)\n",
        "plt.legend()"
      ],
      "execution_count": null,
      "outputs": [
        {
          "output_type": "execute_result",
          "data": {
            "text/plain": [
              "<matplotlib.legend.Legend at 0x7f24f6e6b7f0>"
            ]
          },
          "metadata": {
            "tags": []
          },
          "execution_count": 17
        },
        {
          "output_type": "display_data",
          "data": {
            "image/png": "[encoded data removed]",
            "text/plain": [
              "<Figure size 720x480 with 1 Axes>"
            ]
          },
          "metadata": {
            "tags": [],
            "needs_background": "light"
          }
        }
      ]
    },
    {
      "cell_type": "code",
      "metadata": {
        "id": "vqBxeYmiZc0p"
      },
      "source": [
        "They are very similar."
      ],
      "execution_count": null,
      "outputs": []
    }
  ]
}