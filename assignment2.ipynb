{
  "nbformat": 4,
  "nbformat_minor": 0,
  "metadata": {
    "kernelspec": {
      "display_name": "Python 3",
      "language": "python",
      "name": "python3"
    },
    "language_info": {
      "codemirror_mode": {
        "name": "ipython",
        "version": 3
      },
      "file_extension": ".py",
      "mimetype": "text/x-python",
      "name": "python",
      "nbconvert_exporter": "python",
      "pygments_lexer": "ipython3",
      "version": "3.8.3"
    },
    "colab": {
      "name": "assignment2.ipynb",
      "provenance": [],
      "include_colab_link": true
    }
  },
  "cells": [
    {
      "cell_type": "markdown",
      "metadata": {
        "id": "view-in-github",
        "colab_type": "text"
      },
      "source": [
        "<a href=\"https://colab.research.google.com/github/zzhu247/CS4414/blob/main/assignment2.ipynb\" target=\"_parent\"><img src=\"https://colab.research.google.com/assets/colab-badge.svg\" alt=\"Open In Colab\"/></a>"
      ]
    },
    {
      "cell_type": "markdown",
      "metadata": {
        "id": "Y54LQkT6G5SS"
      },
      "source": [
        "# Grade: /100 Mark(s)\n",
        "\n",
        "# Assignment 02: Maximum Likelihood\n",
        "\n",
        "\n",
        "### Maximum Likelihood\n",
        "\n",
        "The poisson distribution https://en.wikipedia.org/wiki/Poisson_distribution is a discrete probability distribution often used to describe count-based data, like how many snowflakes fall in a day.\n",
        "\n",
        "If we have count data $y$ that are influenced by a covariate or feature $x$, we can used the maximum likelihood principle to develop a regression model that estimates the mean of $Y$ given $X = x$.\n",
        "\n",
        "### Follow These Instructions\n",
        "\n",
        "Once you are finished, ensure to complete the following steps.\n",
        "\n",
        "1.  Restart your kernel by clicking 'Kernel' > 'Restart & Run All'.\n",
        "\n",
        "2.  Fix any errors which result from this.\n",
        "\n",
        "3.  Repeat steps 1. and 2. until your notebook runs without errors.\n",
        "\n",
        "4.  Submit your completed notebook to OWL by the deadline.\n"
      ]
    },
    {
      "cell_type": "code",
      "metadata": {
        "id": "KkcR9bwRG5ST"
      },
      "source": [
        "#Packages for this assignment\n",
        "import numpy as np\n",
        "import matplotlib.pyplot as plt\n",
        "import pandas as pd\n",
        "from scipy.optimize import minimize\n",
        "from scipy.special import gammaln\n",
        "from sklearn import linear_model\n",
        "from IPython.display import display"
      ],
      "execution_count": 2,
      "outputs": []
    },
    {
      "cell_type": "markdown",
      "metadata": {
        "id": "GfcOaQN0G5SU"
      },
      "source": [
        "### Question 1: /10 Marks\n",
        "\n",
        "The negative log likelihood for a Poisson random variable is\n",
        "\n",
        "$$\\ell(\\lambda; \\mathbf{y}) = -\\sum_{i=1}^N\\Bigg(   y_{i}\\cdot \\ln(\\lambda) - \\lambda - \\ln(y_i!) \\Bigg)$$\n",
        "\n",
        "Here, $\\mathbf{y}$ is a vector of counts and $\\lambda$ is a scalar value.\n",
        "\n",
        "Write a function called `poissonNegLogLikelihood` that takes a vector of counts $\\mathbf{y}$ and a parameter $\\lambda$ and returns the negative log likelihood.  The $\\sum_{i} \\ln(y!)$ does not affect the location of the maximum, and so you can omit the $ \\ln(y!)$ in your function.\n",
        "\n",
        "Test your function by calling it with `lam = 1.3` and `y=np.array([2,1,0,0])`.\n",
        "\n",
        "What happens when you call the function when `lam=np.array([1,0.5,1,3])` and  `y=np.array([2,1,0,0])`? \n",
        "\n",
        "Answer the following below in markdown: What happens when you set an element of lam to 0 or a negative number and why? \n"
      ]
    },
    {
      "cell_type": "markdown",
      "metadata": {
        "id": "TN4gY8hNG5SV"
      },
      "source": [
        "#### Answer to Question 1\n",
        "\n",
        "Your answer here."
      ]
    },
    {
      "cell_type": "code",
      "metadata": {
        "colab": {
          "base_uri": "https://localhost:8080/"
        },
        "id": "0R4qTRS2G5SV",
        "outputId": "fbf3d186-454f-4304-ab9d-07dcd984f1f1"
      },
      "source": [
        "def poissonNegLogLikelihood(lam,y):\n",
        "    \n",
        "    # Read up on the gamma function to make sure you get the likelihood right!\n",
        "    neg_log_lik = -1 * np.sum(y* np.log(lam) - lam - gammaln(y+1))\n",
        "    return neg_log_lik\n",
        "lam = 1.3\n",
        "y=np.array([2,1,0,0])\n",
        "print(poissonNegLogLikelihood(lam,y))\n",
        "lam=np.array([1,0.5,1,3])\n",
        "y=np.array([2,1,0,0])\n",
        "print(poissonNegLogLikelihood(lam,y))\n",
        "lam = 0\n",
        "y=np.array([2,1,0,0])\n",
        "print(poissonNegLogLikelihood(lam,y))"
      ],
      "execution_count": 6,
      "outputs": [
        {
          "output_type": "stream",
          "text": [
            "5.106054387157472\n",
            "6.886294361119891\n",
            "nan\n"
          ],
          "name": "stdout"
        },
        {
          "output_type": "stream",
          "text": [
            "/usr/local/lib/python3.6/dist-packages/ipykernel_launcher.py:4: RuntimeWarning: divide by zero encountered in log\n",
            "  after removing the cwd from sys.path.\n",
            "/usr/local/lib/python3.6/dist-packages/ipykernel_launcher.py:4: RuntimeWarning: invalid value encountered in multiply\n",
            "  after removing the cwd from sys.path.\n"
          ],
          "name": "stderr"
        }
      ]
    },
    {
      "cell_type": "markdown",
      "metadata": {
        "id": "IfAe72SowbBj"
      },
      "source": [
        "If the lambda is non-positive, ln(lam) will not be defined. This is because exponentiation only allows positive real number as base to be raised to any real power."
      ]
    },
    {
      "cell_type": "markdown",
      "metadata": {
        "id": "euik0yQqG5SV"
      },
      "source": [
        "---\n",
        "\n",
        "### Question 2: /15 Marks\n",
        "\n",
        "Write a function called `poissonRegressionNegLogLikelihood` that takes as arguments a vector $\\mathbf{y}$ of counts, a design matrix $\\mathbf{X}$ of features for each count, and a vector $\\mathbf{\\beta}$ of parameters. The function should return the negative log likelihood of this dataset, assuming that each element of  $\\mathbf{y}$ is independent and Poisson distributed with parameter $\\lambda = \\exp(\\mathbf{X}\\beta)$.\n",
        "\n",
        "Hint: You can use `poissonNegLogLikelihood` in this answer!\n",
        "Test your function by calling it with \n",
        "* `b=np.array([1,2])`\n",
        "* `X=np.array([[1,2,3],[2,3,1]]).T`\n",
        "* `y=np.array([0,2,10])`\n"
      ]
    },
    {
      "cell_type": "code",
      "metadata": {
        "colab": {
          "base_uri": "https://localhost:8080/"
        },
        "id": "bV4yIIbkG5SW",
        "outputId": "5f226448-57a8-42a1-aace-4db983b831e7"
      },
      "source": [
        "def poissonRegressionNegLogLikelihood(b, X, y):\n",
        "    #Enter the expression for lambda as shown above!\n",
        "    lam = np.exp(X @ b)\n",
        "    # Use poissonNegLogLikelihood to compute the likelihood\n",
        "    neg_log_lik = poissonNegLogLikelihood(lam, y)\n",
        "    return neg_log_lik\n",
        "b=np.array([1,2])\n",
        "X=np.array([[1,2,3],[2,3,1]]).T\n",
        "y=np.array([0,2,10])\n",
        "print(poissonRegressionNegLogLikelihood(b, X, y))"
      ],
      "execution_count": 7,
      "outputs": [
        {
          "output_type": "stream",
          "text": [
            "3227.581865000517\n"
          ],
          "name": "stdout"
        }
      ]
    },
    {
      "cell_type": "markdown",
      "metadata": {
        "id": "-ShSBfIqG5SW"
      },
      "source": [
        "### Question 3: /10 Marks\n",
        "\n",
        "a) In `poissonRegressionNegLogLikelihood`, why did we apply the exponential function to $\\mathbf{X}\\beta$?  Hint: Can an exponential ever be negative?\n",
        "\n",
        "b) What might have happened had we just passed $\\lambda = \\mathbf{X}\\beta$?\n",
        "\n",
        "Answer parts a) and b) below in this cell.  Write no more than 2 sentences per answer! \n",
        "\n",
        "---\n",
        "\n",
        "\n",
        "a) The parameter of Poisson distribution must be positive\n",
        "\n",
        "b) \n"
      ]
    },
    {
      "cell_type": "markdown",
      "metadata": {
        "id": "0oRJK6iLG5SW"
      },
      "source": [
        "### Question 4: /5 Marks\n",
        "\n",
        "Write a function called `modelPrediction` which accepts as its first argument a vector of coefficents $\\beta$ and a design matrix $\\mathbf{X}$.  The function should return predictions of the form $\\widehat{\\mathbf{y}} = \\exp(\\mathbf{X}\\beta)$. \n",
        "\n",
        "Hint: Numpy implements the exponential using `np.exp`.  \n",
        "\n",
        "Test your function by calling it with \n",
        "* `b=np.array([1,2])`\n",
        "* `X=np.array([[1,2,3],[2,3,1]]).T`"
      ]
    },
    {
      "cell_type": "code",
      "metadata": {
        "id": "dfVGnGOwG5SW"
      },
      "source": [
        "def modelPrediction(b,X):\n",
        "    yhat = \n",
        "    return yhat\n"
      ],
      "execution_count": null,
      "outputs": []
    },
    {
      "cell_type": "markdown",
      "metadata": {
        "id": "8g3YsgXjG5SX"
      },
      "source": [
        "### Question 5: /15 Marks\n",
        "\n",
        "Write a function called `fitModel` which accepts as its first argument argument a design matrix $\\mathbf{X}$ and as its second argument a vector of outcomes counts $\\mathbf{y}$. The function should return the maximum likelihood estimates for the coefficients of a Poisson regression of $\\mathbf{y}$ onto $\\mathbf{X}$.\n",
        "\n",
        "Test your function by calling it with \n",
        "* `X=np.array([[1,2,3],[2,3,1]]).T`\n",
        "* `y=np.array([0,2,10])`\n",
        "\n",
        "What is your estimated b? "
      ]
    },
    {
      "cell_type": "code",
      "metadata": {
        "id": "ufvMSohwG5SX"
      },
      "source": [
        "def fitModel(X,y):\n",
        "\n",
        "    # Instantiate a guess for the betas, beta_start, so that the optimizer has somewhere to start\n",
        "    # Keep in mind what shape the beta_start should be. It shoud have the same number of elements as X as columns\n",
        "    beta_start = \n",
        "    # Minimize the appropriate likelihood function\n",
        "    mle = \n",
        "    # Extract the maximum likelihood estimates from the optimizer.\n",
        "    betas = \n",
        "    return betas\n",
        "\n",
        "# Write code to show your estimated b."
      ],
      "execution_count": null,
      "outputs": []
    },
    {
      "cell_type": "markdown",
      "metadata": {
        "id": "A5-cc9rPG5SX"
      },
      "source": [
        "### Question 6: /20 Mark(s)\n",
        "\n",
        "Load in the data from `poisson_regression_data.csv`. Plot a scatterplot of the data. Fit a poisson regression to this data using the functions you wrote above.  Plot the model predictions over $x \\in [-2,2]$ on the same graph as the scatterplot of the data.  "
      ]
    },
    {
      "cell_type": "code",
      "metadata": {
        "id": "BILlCvAlG5SX"
      },
      "source": [
        "# Loading in the data.  \n",
        "df = \n",
        "\n",
        "fig, ax = plt.subplots(dpi = 120)\n",
        "\n",
        "# Scatterplot the data. \n",
        "\n",
        "# Fit the model.  Use your functions.  \n",
        "x = df.x.values \n",
        "X = \n",
        "y= df.y.values\n",
        "\n",
        "# Find the maximum likelihood estimates for the coefficients for this data\n",
        "betas = \n",
        "\n",
        "# Make predictions on new data\n",
        "newx = np.linspace(-2,2,1001)\n",
        "newX = \n",
        "\n",
        "# Make predictions on the new data\n",
        "y_predicted=\n",
        "\n",
        "#Finally, plot the predictions on the same axis and color the predictions red\n",
        "\n"
      ],
      "execution_count": null,
      "outputs": []
    },
    {
      "cell_type": "markdown",
      "metadata": {
        "id": "2IXq6IKWG5SY"
      },
      "source": [
        "### Question 7:  /20 Marks\n",
        "\n",
        "Now apply linear regression (ordinary least squares) to the data, obtain parameter estimates and and plot the predictions over the same range.\n"
      ]
    },
    {
      "cell_type": "code",
      "metadata": {
        "id": "pd_QNwLFG5SY"
      },
      "source": [
        "# Hint: Very similar to the previous assignment\n",
        "# Read in the data\n",
        "df = \n",
        "\n",
        "# fit the model\n",
        "ols_fit = \n",
        "\n",
        "# Make predictions over the range -2 to 2\n",
        "\n",
        "# Plot a scatter plot of the data and your model's predictions\n",
        "fig, ax = plt.subplots(dpi = 120)\n",
        "\n"
      ],
      "execution_count": null,
      "outputs": []
    },
    {
      "cell_type": "markdown",
      "metadata": {
        "id": "LopU924_G5SZ"
      },
      "source": [
        "### Question 8: /5 Mark(s)\n",
        "\n",
        "Do you see any major problems with the predictions from linear regression? Keep in mind that this model is intended to model counts of things.  Provide your answer below in markdown in fewer than 5 sentences. "
      ]
    },
    {
      "cell_type": "markdown",
      "metadata": {
        "id": "tv0OHXr5G5SZ"
      },
      "source": [
        "#### Answer\n",
        "\n",
        "Your answer here."
      ]
    },
    {
      "cell_type": "markdown",
      "metadata": {
        "id": "Y3JWNSnMG5SZ"
      },
      "source": [
        "### Follow These Instructions\n",
        "\n",
        "Once you are finished, ensure to complete the following steps.\n",
        "\n",
        "1.  Restart your kernel by clicking 'Kernel' > 'Restart & Run All'.\n",
        "\n",
        "2.  Fix any errors which result from this.\n",
        "\n",
        "3.  Repeat steps 1. and 2. until your notebook runs without errors.\n",
        "\n",
        "4.  Submit your completed notebook to OWL by the deadline."
      ]
    },
    {
      "cell_type": "code",
      "metadata": {
        "id": "WiY8qV64G5SZ"
      },
      "source": [
        ""
      ],
      "execution_count": null,
      "outputs": []
    }
  ]
}